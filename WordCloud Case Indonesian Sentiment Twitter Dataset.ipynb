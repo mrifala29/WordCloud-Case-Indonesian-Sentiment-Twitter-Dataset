{
  "nbformat": 4,
  "nbformat_minor": 0,
  "metadata": {
    "colab": {
      "name": "Data_Analyst_PT_Codemi.ipynb",
      "provenance": [],
      "collapsed_sections": [
        "YVZzW9PRfKoR",
        "rOnMUZYwWFRH",
        "IHCAaVcVWO-Z",
        "OhoF5rIyWntw"
      ],
      "toc_visible": true
    },
    "kernelspec": {
      "name": "python3",
      "display_name": "Python 3"
    },
    "language_info": {
      "name": "python"
    },
    "accelerator": "TPU"
  },
  "cells": [
    {
      "cell_type": "markdown",
      "metadata": {
        "id": "YVZzW9PRfKoR"
      },
      "source": [
        "# **Case Indonesian Sentiment Twitter Dataset**"
      ]
    },
    {
      "cell_type": "markdown",
      "metadata": {
        "id": "sdXg-n9Mf2Nf"
      },
      "source": [
        "Dataset:\n",
        "\n",
        "*   Dataset Labeled - [Download](https://drive.google.com/file/d/1GHFVtBnCGLzKVYT1lxFY2XNVV59Bqn3Q/view?usp=sharing)\n",
        "*   Dataset Unlabeled - [Download](https://drive.google.com/file/d/1n_Dy8cGCPJdQi_3kr6lD8x8r5llf0Aag/view?usp=sharing)\n",
        "\n"
      ]
    },
    {
      "cell_type": "markdown",
      "metadata": {
        "id": "_cuFnXYQraCb"
      },
      "source": [
        "### Mount"
      ]
    },
    {
      "cell_type": "code",
      "metadata": {
        "colab": {
          "base_uri": "https://localhost:8080/"
        },
        "id": "x4wTeGFBrciE",
        "outputId": "6e91ba25-e2a2-4029-9d8b-42639140f838"
      },
      "source": [
        "from google.colab import drive\n",
        "drive.mount('/content/drive')"
      ],
      "execution_count": null,
      "outputs": [
        {
          "output_type": "stream",
          "name": "stdout",
          "text": [
            "Mounted at /content/drive\n"
          ]
        }
      ]
    },
    {
      "cell_type": "markdown",
      "metadata": {
        "id": "rOnMUZYwWFRH"
      },
      "source": [
        "### Install Sastrawi dan NLTK"
      ]
    },
    {
      "cell_type": "code",
      "metadata": {
        "colab": {
          "base_uri": "https://localhost:8080/"
        },
        "id": "6ZKEZYQDUjid",
        "outputId": "b9c82ef4-1ec8-4b50-c8d3-6490b5ab6e74"
      },
      "source": [
        "pip install Sastrawi"
      ],
      "execution_count": null,
      "outputs": [
        {
          "output_type": "stream",
          "name": "stdout",
          "text": [
            "Collecting Sastrawi\n",
            "  Downloading Sastrawi-1.0.1-py2.py3-none-any.whl (209 kB)\n",
            "\u001b[?25l\r\u001b[K     |█▋                              | 10 kB 23.8 MB/s eta 0:00:01\r\u001b[K     |███▏                            | 20 kB 28.8 MB/s eta 0:00:01\r\u001b[K     |████▊                           | 30 kB 12.4 MB/s eta 0:00:01\r\u001b[K     |██████▎                         | 40 kB 9.8 MB/s eta 0:00:01\r\u001b[K     |███████▉                        | 51 kB 5.1 MB/s eta 0:00:01\r\u001b[K     |█████████▍                      | 61 kB 5.7 MB/s eta 0:00:01\r\u001b[K     |███████████                     | 71 kB 6.0 MB/s eta 0:00:01\r\u001b[K     |████████████▌                   | 81 kB 6.7 MB/s eta 0:00:01\r\u001b[K     |██████████████                  | 92 kB 6.9 MB/s eta 0:00:01\r\u001b[K     |███████████████▋                | 102 kB 5.3 MB/s eta 0:00:01\r\u001b[K     |█████████████████▏              | 112 kB 5.3 MB/s eta 0:00:01\r\u001b[K     |██████████████████▊             | 122 kB 5.3 MB/s eta 0:00:01\r\u001b[K     |████████████████████▎           | 133 kB 5.3 MB/s eta 0:00:01\r\u001b[K     |█████████████████████▉          | 143 kB 5.3 MB/s eta 0:00:01\r\u001b[K     |███████████████████████▍        | 153 kB 5.3 MB/s eta 0:00:01\r\u001b[K     |█████████████████████████       | 163 kB 5.3 MB/s eta 0:00:01\r\u001b[K     |██████████████████████████▋     | 174 kB 5.3 MB/s eta 0:00:01\r\u001b[K     |████████████████████████████▏   | 184 kB 5.3 MB/s eta 0:00:01\r\u001b[K     |█████████████████████████████▊  | 194 kB 5.3 MB/s eta 0:00:01\r\u001b[K     |███████████████████████████████▎| 204 kB 5.3 MB/s eta 0:00:01\r\u001b[K     |████████████████████████████████| 209 kB 5.3 MB/s \n",
            "\u001b[?25hInstalling collected packages: Sastrawi\n",
            "Successfully installed Sastrawi-1.0.1\n"
          ]
        }
      ]
    },
    {
      "cell_type": "code",
      "metadata": {
        "colab": {
          "base_uri": "https://localhost:8080/"
        },
        "id": "61ioqdcVZAm1",
        "outputId": "19ff18b5-d356-492c-ff89-7b0b7c1502d0"
      },
      "source": [
        "import nltk\n",
        "\n",
        "\n",
        "nltk.download('punkt')"
      ],
      "execution_count": null,
      "outputs": [
        {
          "output_type": "stream",
          "name": "stdout",
          "text": [
            "[nltk_data] Downloading package punkt to /root/nltk_data...\n",
            "[nltk_data]   Unzipping tokenizers/punkt.zip.\n"
          ]
        },
        {
          "output_type": "execute_result",
          "data": {
            "text/plain": [
              "True"
            ]
          },
          "metadata": {},
          "execution_count": 3
        }
      ]
    },
    {
      "cell_type": "code",
      "metadata": {
        "colab": {
          "base_uri": "https://localhost:8080/"
        },
        "id": "80yAPcesbFXb",
        "outputId": "f61e4d97-aa80-40ac-cdcf-24a7c63ea7f1"
      },
      "source": [
        "nltk.download('stopwords')"
      ],
      "execution_count": null,
      "outputs": [
        {
          "output_type": "stream",
          "name": "stdout",
          "text": [
            "[nltk_data] Downloading package stopwords to /root/nltk_data...\n",
            "[nltk_data]   Unzipping corpora/stopwords.zip.\n"
          ]
        },
        {
          "output_type": "execute_result",
          "data": {
            "text/plain": [
              "True"
            ]
          },
          "metadata": {},
          "execution_count": 4
        }
      ]
    },
    {
      "cell_type": "markdown",
      "metadata": {
        "id": "oRuxGMFqq-7K"
      },
      "source": [
        "### Dataset"
      ]
    },
    {
      "cell_type": "code",
      "metadata": {
        "id": "Iytluv7drBLG"
      },
      "source": [
        "import pandas as pd\n",
        "\n",
        "\n",
        "data_labeled = pd.read_csv('/content/drive/MyDrive/Kerja/Data Analyst - PT Codemi/Indonesian Sentiment Twitter Dataset Labeled.csv', sep=\"\\t\")\n",
        "\n",
        "\n",
        "data_unlabeled = pd.read_csv('/content/drive/MyDrive/Kerja/Data Analyst - PT Codemi/Indonesian Sentiment Tweet Dataset Unlabeled.csv', header=None)\n",
        "data_unlabeled.rename(columns={0:'Tweet'}, inplace=True)\n",
        "\n",
        "\n",
        "pd.set_option('display.max_colwidth', None)"
      ],
      "execution_count": null,
      "outputs": []
    },
    {
      "cell_type": "markdown",
      "metadata": {
        "id": "RZFeeUsMtx35"
      },
      "source": [
        "Data Labeled"
      ]
    },
    {
      "cell_type": "code",
      "metadata": {
        "colab": {
          "base_uri": "https://localhost:8080/",
          "height": 216
        },
        "id": "NByy0Z8tueDi",
        "outputId": "a49b7eb8-281f-494c-f90e-ee590b3a5367"
      },
      "source": [
        "print(\"Sample Data Labeled\")\n",
        "data_labeled.head()"
      ],
      "execution_count": null,
      "outputs": [
        {
          "output_type": "stream",
          "name": "stdout",
          "text": [
            "Sample Data Labeled\n"
          ]
        },
        {
          "output_type": "execute_result",
          "data": {
            "text/html": [
              "<div>\n",
              "<style scoped>\n",
              "    .dataframe tbody tr th:only-of-type {\n",
              "        vertical-align: middle;\n",
              "    }\n",
              "\n",
              "    .dataframe tbody tr th {\n",
              "        vertical-align: top;\n",
              "    }\n",
              "\n",
              "    .dataframe thead th {\n",
              "        text-align: right;\n",
              "    }\n",
              "</style>\n",
              "<table border=\"1\" class=\"dataframe\">\n",
              "  <thead>\n",
              "    <tr style=\"text-align: right;\">\n",
              "      <th></th>\n",
              "      <th>sentimen</th>\n",
              "      <th>Tweet</th>\n",
              "    </tr>\n",
              "  </thead>\n",
              "  <tbody>\n",
              "    <tr>\n",
              "      <th>0</th>\n",
              "      <td>-1</td>\n",
              "      <td>lagu bosan apa yang aku save ni huhuhuhuhuhuhuhuhuhuuuuuuuuuuuuuu</td>\n",
              "    </tr>\n",
              "    <tr>\n",
              "      <th>1</th>\n",
              "      <td>-1</td>\n",
              "      <td>kita lanjutkan saja diam ini hingga kau dan aku mengerti tidak semua kebersamaan harus melibatkan hati</td>\n",
              "    </tr>\n",
              "    <tr>\n",
              "      <th>2</th>\n",
              "      <td>1</td>\n",
              "      <td>doa rezeki tak putus inna haa zaa larizquna maa lahu min na fadesungguhnya ini ialah pemberian kami kepada kamu p</td>\n",
              "    </tr>\n",
              "    <tr>\n",
              "      <th>3</th>\n",
              "      <td>1</td>\n",
              "      <td>makasih loh ntar kita bagi hasil aku 99 9 sisanya buat kamu</td>\n",
              "    </tr>\n",
              "    <tr>\n",
              "      <th>4</th>\n",
              "      <td>-1</td>\n",
              "      <td>aku tak faham betul jenis orang malaysia yang tak reti nak sangkut balik hose tu aku geli bodoh nak pegang</td>\n",
              "    </tr>\n",
              "  </tbody>\n",
              "</table>\n",
              "</div>"
            ],
            "text/plain": [
              "   sentimen                                                                                                               Tweet\n",
              "0        -1                                                   lagu bosan apa yang aku save ni huhuhuhuhuhuhuhuhuhuuuuuuuuuuuuuu\n",
              "1        -1             kita lanjutkan saja diam ini hingga kau dan aku mengerti tidak semua kebersamaan harus melibatkan hati \n",
              "2         1  doa rezeki tak putus inna haa zaa larizquna maa lahu min na fadesungguhnya ini ialah pemberian kami kepada kamu p \n",
              "3         1                                                         makasih loh ntar kita bagi hasil aku 99 9 sisanya buat kamu\n",
              "4        -1         aku tak faham betul jenis orang malaysia yang tak reti nak sangkut balik hose tu aku geli bodoh nak pegang "
            ]
          },
          "metadata": {},
          "execution_count": 6
        }
      ]
    },
    {
      "cell_type": "code",
      "metadata": {
        "colab": {
          "base_uri": "https://localhost:8080/"
        },
        "id": "6bvhXRrQs37G",
        "outputId": "6e6e52be-1644-416f-bdea-95af8c4ed18d"
      },
      "source": [
        "print(\"Shape Data Labeled\")\n",
        "data_labeled.shape"
      ],
      "execution_count": null,
      "outputs": [
        {
          "output_type": "stream",
          "name": "stdout",
          "text": [
            "Shape Data Labeled\n"
          ]
        },
        {
          "output_type": "execute_result",
          "data": {
            "text/plain": [
              "(10806, 2)"
            ]
          },
          "metadata": {},
          "execution_count": 7
        }
      ]
    },
    {
      "cell_type": "markdown",
      "metadata": {
        "id": "21cLewXHt0JJ"
      },
      "source": [
        "Data Unlabeled"
      ]
    },
    {
      "cell_type": "code",
      "metadata": {
        "colab": {
          "base_uri": "https://localhost:8080/",
          "height": 216
        },
        "id": "j11YME6FSsUK",
        "outputId": "7995b51f-4f25-4889-d785-b39395508b62"
      },
      "source": [
        "print(\"Sample Data Unlabeled\")\n",
        "data_unlabeled.head()"
      ],
      "execution_count": null,
      "outputs": [
        {
          "output_type": "stream",
          "name": "stdout",
          "text": [
            "Sample Data Unlabeled\n"
          ]
        },
        {
          "output_type": "execute_result",
          "data": {
            "text/html": [
              "<div>\n",
              "<style scoped>\n",
              "    .dataframe tbody tr th:only-of-type {\n",
              "        vertical-align: middle;\n",
              "    }\n",
              "\n",
              "    .dataframe tbody tr th {\n",
              "        vertical-align: top;\n",
              "    }\n",
              "\n",
              "    .dataframe thead th {\n",
              "        text-align: right;\n",
              "    }\n",
              "</style>\n",
              "<table border=\"1\" class=\"dataframe\">\n",
              "  <thead>\n",
              "    <tr style=\"text-align: right;\">\n",
              "      <th></th>\n",
              "      <th>Tweet</th>\n",
              "    </tr>\n",
              "  </thead>\n",
              "  <tbody>\n",
              "    <tr>\n",
              "      <th>0</th>\n",
              "      <td>lagu bosan apa yang aku save ni huhuhuhuhuhuhuhuhuhuuuuuuuuuuuuuu</td>\n",
              "    </tr>\n",
              "    <tr>\n",
              "      <th>1</th>\n",
              "      <td>kita lanjutkan saja diam ini hingga kau dan aku mengerti tidak semua kebersamaan harus melibatkan hati</td>\n",
              "    </tr>\n",
              "    <tr>\n",
              "      <th>2</th>\n",
              "      <td>Doa rezeki tak putus Inna haa zaa larizquna maa lahu min na fadesungguhnya ini ialah pemberian kami kepada kamu p</td>\n",
              "    </tr>\n",
              "    <tr>\n",
              "      <th>3</th>\n",
              "      <td>Makasih loh ntar kita bagi hasil aku 99 9 sisanya buat kamu</td>\n",
              "    </tr>\n",
              "    <tr>\n",
              "      <th>4</th>\n",
              "      <td>Aku tak faham betul jenis orang malaysia yang tak reti nak sangkut balik hose tu Aku geli bodoh nak pegang</td>\n",
              "    </tr>\n",
              "  </tbody>\n",
              "</table>\n",
              "</div>"
            ],
            "text/plain": [
              "                                                                                                                Tweet\n",
              "0                                                   lagu bosan apa yang aku save ni huhuhuhuhuhuhuhuhuhuuuuuuuuuuuuuu\n",
              "1             kita lanjutkan saja diam ini hingga kau dan aku mengerti tidak semua kebersamaan harus melibatkan hati \n",
              "2  Doa rezeki tak putus Inna haa zaa larizquna maa lahu min na fadesungguhnya ini ialah pemberian kami kepada kamu p \n",
              "3                                                         Makasih loh ntar kita bagi hasil aku 99 9 sisanya buat kamu\n",
              "4         Aku tak faham betul jenis orang malaysia yang tak reti nak sangkut balik hose tu Aku geli bodoh nak pegang "
            ]
          },
          "metadata": {},
          "execution_count": 8
        }
      ]
    },
    {
      "cell_type": "code",
      "metadata": {
        "colab": {
          "base_uri": "https://localhost:8080/"
        },
        "id": "XT-rW81_tg7P",
        "outputId": "462f18db-f5bd-4996-ea69-952fc19960fa"
      },
      "source": [
        "print(\"Sample Data Unlabeled\")\n",
        "data_unlabeled.shape"
      ],
      "execution_count": null,
      "outputs": [
        {
          "output_type": "stream",
          "name": "stdout",
          "text": [
            "Sample Data Unlabeled\n"
          ]
        },
        {
          "output_type": "execute_result",
          "data": {
            "text/plain": [
              "(453390, 1)"
            ]
          },
          "metadata": {},
          "execution_count": 9
        }
      ]
    },
    {
      "cell_type": "markdown",
      "metadata": {
        "id": "IHCAaVcVWO-Z"
      },
      "source": [
        "## Preprocessing Unlabeled "
      ]
    },
    {
      "cell_type": "markdown",
      "metadata": {
        "id": "QWbQKyaGqfWh"
      },
      "source": [
        "### Prepare Data"
      ]
    },
    {
      "cell_type": "markdown",
      "metadata": {
        "id": "zgS6Q8QauA7i"
      },
      "source": [
        "Memindah data pada dataframe ke array"
      ]
    },
    {
      "cell_type": "code",
      "metadata": {
        "colab": {
          "base_uri": "https://localhost:8080/"
        },
        "id": "psVD0CG5qmWZ",
        "outputId": "6555bf1c-5fb5-44f2-cbe5-c0ec827fd298"
      },
      "source": [
        "from pandas import DataFrame\n",
        "\n",
        "\n",
        "dataraw_unlabeled = []\n",
        "dataclean_unlabeled = []\n",
        "i = 0\n",
        "\n",
        "\n",
        "jml_data = data_unlabeled.shape\n",
        "jml_data = jml_data[0]\n",
        "print(\"jumlah data pada dataframe : \",jml_data)\n",
        "\n",
        "\n",
        "while(i<jml_data):\n",
        "  dataraw_unlabeled.append(data_unlabeled['Tweet'].loc[i])\n",
        "  i = i+1\n",
        "\n",
        "\n",
        "print(\"jumlah data pada array : \",len(dataraw_unlabeled))"
      ],
      "execution_count": null,
      "outputs": [
        {
          "output_type": "stream",
          "name": "stdout",
          "text": [
            "jumlah data pada dataframe :  453390\n",
            "jumlah data pada array :  453390\n"
          ]
        }
      ]
    },
    {
      "cell_type": "markdown",
      "metadata": {
        "id": "OhoF5rIyWntw"
      },
      "source": [
        "### Case Folding"
      ]
    },
    {
      "cell_type": "code",
      "metadata": {
        "id": "UdxV7TZ21_JH"
      },
      "source": [
        "import re\n",
        "import string\n",
        "\n",
        "\n",
        "dataclean_unlabeledeled = []\n",
        "\n",
        "\n",
        "for d in dataraw_unlabeled:\n",
        "#CASE FOLDING\n",
        "  # Remove Unicode\n",
        "  document_test = re.sub(r'[^\\x00-\\x7F]+', ' ', d)\n",
        "  # Remove Mentions\n",
        "  document_test = re.sub(r'@\\w+', '', document_test)\n",
        "  # Remove punctuations\n",
        "  document_test = re.sub(r'[%s]' % re.escape(string.punctuation), ' ', document_test)\n",
        "  # Lowercase the numbers\n",
        "  document_test = re.sub(r'[0-9]', '', document_test)\n",
        "  # Remove the doubled space\n",
        "  document_test = re.sub(r'\\s{2,}', ' ', document_test)\n",
        "\n",
        "  # Lowercase the document\n",
        "  document_test = document_test.lower()\n",
        "  tmp = document_test\n",
        "  dataclean_unlabeled.append(tmp)"
      ],
      "execution_count": null,
      "outputs": []
    },
    {
      "cell_type": "code",
      "metadata": {
        "colab": {
          "base_uri": "https://localhost:8080/"
        },
        "id": "H8nKsTTU2hG1",
        "outputId": "cfa4e784-acb7-434c-9577-d8beeb60e471"
      },
      "source": [
        "print(\"Jumlah data setelah Case Folding : \",len(dataclean_unlabeled))\n",
        "print(dataclean_unlabeled[0])"
      ],
      "execution_count": null,
      "outputs": [
        {
          "output_type": "stream",
          "name": "stdout",
          "text": [
            "Jumlah data setelah Case Folding :  453390\n",
            "lagu bosan apa yang aku save ni huhuhuhuhuhuhuhuhuhuuuuuuuuuuuuuu\n"
          ]
        }
      ]
    },
    {
      "cell_type": "markdown",
      "metadata": {
        "id": "wwajyjNyWuRM"
      },
      "source": [
        "### Tokenizing"
      ]
    },
    {
      "cell_type": "code",
      "metadata": {
        "colab": {
          "base_uri": "https://localhost:8080/"
        },
        "id": "GoVdXUIEXR2-",
        "outputId": "6fa0eb66-82b9-4431-8947-b6f68e13bcbb"
      },
      "source": [
        "datatoken = []\n",
        "\n",
        "\n",
        "for i in range(len(dataclean_unlabeled)):\n",
        "  tmp = nltk.tokenize.word_tokenize(dataclean_unlabeled[i])\n",
        "  datatoken.append(tmp)\n",
        "\n",
        "\n",
        "print(\"Banyaknya data setelah tokenizing = \",len(datatoken))"
      ],
      "execution_count": null,
      "outputs": [
        {
          "output_type": "stream",
          "name": "stdout",
          "text": [
            "Banyaknya data setelah tokenizing =  453390\n"
          ]
        }
      ]
    },
    {
      "cell_type": "markdown",
      "metadata": {
        "id": "K_mS5dEyaDDz"
      },
      "source": [
        "### Filtering (Stopword Removal)"
      ]
    },
    {
      "cell_type": "code",
      "metadata": {
        "colab": {
          "base_uri": "https://localhost:8080/"
        },
        "id": "xIh5L1ixb46I",
        "outputId": "8a855e01-c66e-455c-be7e-ef959cad1f53"
      },
      "source": [
        "from Sastrawi.StopWordRemover.StopWordRemoverFactory import StopWordRemoverFactory\n",
        "factory = StopWordRemoverFactory()\n",
        "stopwords = factory.get_stop_words()\n",
        "print(stopwords)"
      ],
      "execution_count": null,
      "outputs": [
        {
          "output_type": "stream",
          "name": "stdout",
          "text": [
            "['yang', 'untuk', 'pada', 'ke', 'para', 'namun', 'menurut', 'antara', 'dia', 'dua', 'ia', 'seperti', 'jika', 'jika', 'sehingga', 'kembali', 'dan', 'tidak', 'ini', 'karena', 'kepada', 'oleh', 'saat', 'harus', 'sementara', 'setelah', 'belum', 'kami', 'sekitar', 'bagi', 'serta', 'di', 'dari', 'telah', 'sebagai', 'masih', 'hal', 'ketika', 'adalah', 'itu', 'dalam', 'bisa', 'bahwa', 'atau', 'hanya', 'kita', 'dengan', 'akan', 'juga', 'ada', 'mereka', 'sudah', 'saya', 'terhadap', 'secara', 'agar', 'lain', 'anda', 'begitu', 'mengapa', 'kenapa', 'yaitu', 'yakni', 'daripada', 'itulah', 'lagi', 'maka', 'tentang', 'demi', 'dimana', 'kemana', 'pula', 'sambil', 'sebelum', 'sesudah', 'supaya', 'guna', 'kah', 'pun', 'sampai', 'sedangkan', 'selagi', 'sementara', 'tetapi', 'apakah', 'kecuali', 'sebab', 'selain', 'seolah', 'seraya', 'seterusnya', 'tanpa', 'agak', 'boleh', 'dapat', 'dsb', 'dst', 'dll', 'dahulu', 'dulunya', 'anu', 'demikian', 'tapi', 'ingin', 'juga', 'nggak', 'mari', 'nanti', 'melainkan', 'oh', 'ok', 'seharusnya', 'sebetulnya', 'setiap', 'setidaknya', 'sesuatu', 'pasti', 'saja', 'toh', 'ya', 'walau', 'tolong', 'tentu', 'amat', 'apalagi', 'bagaimanapun']\n"
          ]
        }
      ]
    },
    {
      "cell_type": "code",
      "metadata": {
        "colab": {
          "base_uri": "https://localhost:8080/"
        },
        "id": "kvjFQgz_aH7r",
        "outputId": "f1344310-c2f9-4ba3-f3b4-0793dee51ffd"
      },
      "source": [
        "from nltk.tokenize import sent_tokenize, word_tokenize\n",
        "from nltk.corpus import stopwords\n",
        "\n",
        "\n",
        "\n",
        "listStopword =  set(stopwords.words('indonesian'))\n",
        "tmp = []\n",
        "datafilter = []\n",
        "\n",
        "\n",
        "for i in datatoken:\n",
        "  for j in i:\n",
        "    if j not in listStopword:\n",
        "      tmp.append(j)\n",
        "  datafilter.append(tmp)\n",
        "  tmp = []\n",
        "  \n",
        "\n",
        "\n",
        "print(\"Banyaknya data setelah filtering = \",len(datafilter))"
      ],
      "execution_count": null,
      "outputs": [
        {
          "output_type": "stream",
          "name": "stdout",
          "text": [
            "Banyaknya data setelah filtering =  453390\n"
          ]
        }
      ]
    },
    {
      "cell_type": "markdown",
      "metadata": {
        "id": "esgQCOgidDK_"
      },
      "source": [
        "### Stemming"
      ]
    },
    {
      "cell_type": "markdown",
      "metadata": {
        "id": "UPti76FjMfDW"
      },
      "source": [
        "Proses stemming ini perlu untuk dilakukan, namun saya  menggunakan google colabs selalu crash karena melebihi batas penyimpanan / ram yang tersedia di google colabs, sedangkan laptop saya tidak memadai untuk ini. Sehingga saya memilih untuk menggunakan sample data. Pada awalnya saya memilih untuk meninggalkan langkah ini namun tetap saja pada tahap perubahan nested list hasil tokenizing menjadi list berisi string itu selalu ram google colabs habis. Sehingga saya memutuskan menggunakan sample 5rb data saja."
      ]
    },
    {
      "cell_type": "code",
      "metadata": {
        "id": "kuOmJnIQPrmL"
      },
      "source": [
        "sample_unlabeled = []\n",
        "i = 0\n",
        "\n",
        "while(i < 45000):\n",
        "  sample_unlabeled.append(datafilter[i])\n",
        "  i = i + 1\n",
        "\n",
        "print(sample_unlabeled)"
      ],
      "execution_count": null,
      "outputs": []
    },
    {
      "cell_type": "code",
      "metadata": {
        "id": "GhF1GSJrMd2s",
        "colab": {
          "base_uri": "https://localhost:8080/"
        },
        "outputId": "397588ec-b644-4310-f7f2-f640493fbd6a"
      },
      "source": [
        "from Sastrawi.Stemmer.StemmerFactory import StemmerFactory\n",
        "factory = StemmerFactory()\n",
        "stemmer = factory.create_stemmer()\n",
        "z=0\n",
        "\n",
        "# coba = [['ini','data','percobaan'],['bagaimana','hasilnya'],['tidak','tahu','sepertinya','benar'],['semoga','ini','sudah','benar'],['aku','harapkan','juga','begitu']]\n",
        "datastem = []\n",
        "tmp = []\n",
        "\n",
        "\n",
        "# for i in datafilter:\n",
        "for i in sample_unlabeled:\n",
        "  for j in i:\n",
        "    tmp.append(stemmer.stem(j))\n",
        "  datastem.append(tmp);\n",
        "  tmp = []\n",
        "\n",
        "\n",
        "print(\"Banyaknya data setelah filtering = \",len(datastem))"
      ],
      "execution_count": null,
      "outputs": [
        {
          "output_type": "stream",
          "name": "stdout",
          "text": [
            "Banyaknya data setelah filtering =  45000\n"
          ]
        }
      ]
    },
    {
      "cell_type": "markdown",
      "metadata": {
        "id": "I0t7e5kOoq3T"
      },
      "source": [
        "### Hasil Akhir Preprocessing"
      ]
    },
    {
      "cell_type": "code",
      "metadata": {
        "id": "veNFP3gylodY",
        "colab": {
          "base_uri": "https://localhost:8080/"
        },
        "outputId": "79b837cc-a357-478c-a0fe-216ab161f09e"
      },
      "source": [
        "def convert_list_to_string(nama_list, seperator=' '):\n",
        "    \"\"\" Convert list to string, by joining all item in list with given separator.\n",
        "        Returns the concatenated string \"\"\"\n",
        "    return seperator.join(nama_list)\n",
        "\n",
        "\n",
        "finaldata_unlabeled = []\n",
        "\n",
        "\n",
        "for i in datastem:\n",
        "  finaldata_unlabeled.append(convert_list_to_string(i))\n",
        "\n",
        "print(\"Banyaknya data setelah filtering = \",len(finaldata_unlabeled))"
      ],
      "execution_count": null,
      "outputs": [
        {
          "output_type": "stream",
          "name": "stdout",
          "text": [
            "Banyaknya data setelah filtering =  45000\n"
          ]
        }
      ]
    },
    {
      "cell_type": "code",
      "metadata": {
        "id": "fyOYcJO_mM-R",
        "colab": {
          "base_uri": "https://localhost:8080/"
        },
        "outputId": "84a8ca40-b071-4d0c-87cb-fe91864864d7"
      },
      "source": [
        "print(finaldata_unlabeled[0])\n",
        "print(len(finaldata_unlabeled))"
      ],
      "execution_count": null,
      "outputs": [
        {
          "output_type": "stream",
          "name": "stdout",
          "text": [
            "lagu bosan save ni huhuhuhuhuhuhuhuhuhuuuuuuuuuuuuuu\n",
            "45000\n"
          ]
        }
      ]
    },
    {
      "cell_type": "markdown",
      "metadata": {
        "id": "Eq0OqX56Vajt"
      },
      "source": [
        "### Export Data Clean - Unlabeled"
      ]
    },
    {
      "cell_type": "code",
      "metadata": {
        "id": "eRj0mahFP9bS"
      },
      "source": [
        "df_final_unlabeled = DataFrame(columns=['Tweet'])\n",
        "df_final_unlabeled['Tweet'] = finaldata_unlabeled"
      ],
      "execution_count": null,
      "outputs": []
    },
    {
      "cell_type": "code",
      "metadata": {
        "colab": {
          "base_uri": "https://localhost:8080/"
        },
        "id": "wOW5_i_1aUlr",
        "outputId": "b1045667-e0fc-4409-dcb4-96ee84339f0b"
      },
      "source": [
        "df_final_unlabeled.head()"
      ],
      "execution_count": null,
      "outputs": [
        {
          "output_type": "execute_result",
          "data": {
            "text/html": [
              "<div>\n",
              "<style scoped>\n",
              "    .dataframe tbody tr th:only-of-type {\n",
              "        vertical-align: middle;\n",
              "    }\n",
              "\n",
              "    .dataframe tbody tr th {\n",
              "        vertical-align: top;\n",
              "    }\n",
              "\n",
              "    .dataframe thead th {\n",
              "        text-align: right;\n",
              "    }\n",
              "</style>\n",
              "<table border=\"1\" class=\"dataframe\">\n",
              "  <thead>\n",
              "    <tr style=\"text-align: right;\">\n",
              "      <th></th>\n",
              "      <th>Tweet</th>\n",
              "    </tr>\n",
              "  </thead>\n",
              "  <tbody>\n",
              "    <tr>\n",
              "      <th>0</th>\n",
              "      <td>lagu bosan save ni huhuhuhuhuhuhuhuhuhuuuuuuuuuuuuuu</td>\n",
              "    </tr>\n",
              "    <tr>\n",
              "      <th>1</th>\n",
              "      <td>lanjut diam kau erti sama libat hati</td>\n",
              "    </tr>\n",
              "    <tr>\n",
              "      <th>2</th>\n",
              "      <td>doa rezeki putus inna haa zaa larizquna maa lahu min na fadesungguhnya beri p</td>\n",
              "    </tr>\n",
              "    <tr>\n",
              "      <th>3</th>\n",
              "      <td>makasih loh ntar hasil sisa</td>\n",
              "    </tr>\n",
              "    <tr>\n",
              "      <th>4</th>\n",
              "      <td>faham jenis orang malaysia ret nak sangkut hose tu geli bodoh nak pegang</td>\n",
              "    </tr>\n",
              "  </tbody>\n",
              "</table>\n",
              "</div>"
            ],
            "text/plain": [
              "                                                                           Tweet\n",
              "0                           lagu bosan save ni huhuhuhuhuhuhuhuhuhuuuuuuuuuuuuuu\n",
              "1                                           lanjut diam kau erti sama libat hati\n",
              "2  doa rezeki putus inna haa zaa larizquna maa lahu min na fadesungguhnya beri p\n",
              "3                                                    makasih loh ntar hasil sisa\n",
              "4       faham jenis orang malaysia ret nak sangkut hose tu geli bodoh nak pegang"
            ]
          },
          "metadata": {},
          "execution_count": 34
        }
      ]
    },
    {
      "cell_type": "code",
      "metadata": {
        "colab": {
          "base_uri": "https://localhost:8080/"
        },
        "id": "bLSHIuqrayE1",
        "outputId": "f670381f-5096-44f1-f91c-5983b8e808b2"
      },
      "source": [
        "df_final_unlabeled.shape"
      ],
      "execution_count": null,
      "outputs": [
        {
          "output_type": "execute_result",
          "data": {
            "text/plain": [
              "(45000, 1)"
            ]
          },
          "metadata": {},
          "execution_count": 37
        }
      ]
    },
    {
      "cell_type": "code",
      "metadata": {
        "colab": {
          "base_uri": "https://localhost:8080/"
        },
        "id": "F_NNV2fBjNg6",
        "outputId": "f3d155b2-bece-4037-cc57-b0fa392b4b34"
      },
      "source": [
        "%cd /content/drive/MyDrive/Kerja/Data Analyst - PT Codemi/"
      ],
      "execution_count": null,
      "outputs": [
        {
          "output_type": "stream",
          "name": "stdout",
          "text": [
            "/content/drive/MyDrive/Kerja/Data Analyst - PT Codemi\n"
          ]
        }
      ]
    },
    {
      "cell_type": "code",
      "metadata": {
        "id": "kxhq_21Bjg5_"
      },
      "source": [
        "df_final_unlabeled.to_csv(r'Indonesian Sentiment Tweet Clean Dataset Unlabeled.csv',index=False)"
      ],
      "execution_count": null,
      "outputs": []
    },
    {
      "cell_type": "markdown",
      "metadata": {
        "id": "BiKcIgs5kGtg"
      },
      "source": [
        "## Preprocessing Labeled "
      ]
    },
    {
      "cell_type": "markdown",
      "metadata": {
        "id": "GrcPEVJlkGt2"
      },
      "source": [
        "### Prepare Data"
      ]
    },
    {
      "cell_type": "markdown",
      "metadata": {
        "id": "KqrsjjfWkGt3"
      },
      "source": [
        "Memindah data pada dataframe ke array"
      ]
    },
    {
      "cell_type": "code",
      "metadata": {
        "colab": {
          "base_uri": "https://localhost:8080/"
        },
        "id": "EiPWI3GSkGt3",
        "outputId": "f8cd2590-4284-4e8b-957b-a84742cc4ec1"
      },
      "source": [
        "from pandas import DataFrame\n",
        "\n",
        "\n",
        "dataraw_labeled = []\n",
        "sentiment_labeled = []\n",
        "dataclean_labeled = []\n",
        "i = 0\n",
        "\n",
        "\n",
        "jml_data = data_labeled.shape\n",
        "jml_data = jml_data[0]\n",
        "print(\"jumlah data pada dataframe : \",jml_data)\n",
        "\n",
        "\n",
        "while(i<jml_data):\n",
        "  dataraw_labeled.append(data_labeled['Tweet'].loc[i])\n",
        "  sentiment_labeled.append(data_labeled['sentimen'].loc[i])\n",
        "  i = i+1\n",
        "\n",
        "\n",
        "print(\"jumlah data pada array tweet: \", len(dataraw_labeled))\n",
        "print(\"jumlah data pada array sentiment: \", len(sentiment_labeled))"
      ],
      "execution_count": null,
      "outputs": [
        {
          "output_type": "stream",
          "name": "stdout",
          "text": [
            "jumlah data pada dataframe :  10806\n",
            "jumlah data pada array tweet:  10806\n",
            "jumlah data pada array sentiment:  10806\n"
          ]
        }
      ]
    },
    {
      "cell_type": "markdown",
      "metadata": {
        "id": "5kACj2UCkGt5"
      },
      "source": [
        "### Case Folding"
      ]
    },
    {
      "cell_type": "code",
      "metadata": {
        "id": "46jRaMPokGt5"
      },
      "source": [
        "import re\n",
        "import string\n",
        "\n",
        "\n",
        "dataclean_labeledeled = []\n",
        "\n",
        "\n",
        "for d in dataraw_labeled:\n",
        "#CASE FOLDING\n",
        "  # Remove Unicode\n",
        "  document_test = re.sub(r'[^\\x00-\\x7F]+', ' ', d)\n",
        "  # Remove Mentions\n",
        "  document_test = re.sub(r'@\\w+', '', document_test)\n",
        "  # Remove punctuations\n",
        "  document_test = re.sub(r'[%s]' % re.escape(string.punctuation), ' ', document_test)\n",
        "  # Lowercase the numbers\n",
        "  document_test = re.sub(r'[0-9]', '', document_test)\n",
        "  # Remove the doubled space\n",
        "  document_test = re.sub(r'\\s{2,}', ' ', document_test)\n",
        "\n",
        "  # Lowercase the document\n",
        "  document_test = document_test.lower()\n",
        "  tmp = document_test\n",
        "  dataclean_labeled.append(tmp)"
      ],
      "execution_count": null,
      "outputs": []
    },
    {
      "cell_type": "code",
      "metadata": {
        "colab": {
          "base_uri": "https://localhost:8080/"
        },
        "id": "q63TGkRIkGt6",
        "outputId": "4b7ff5d7-d6d3-4b15-a19a-736ac3512fd3"
      },
      "source": [
        "print(\"Jumlah data setelah Case Folding : \",len(dataclean_labeled))\n",
        "print(dataclean_labeled[0])"
      ],
      "execution_count": null,
      "outputs": [
        {
          "output_type": "stream",
          "name": "stdout",
          "text": [
            "Jumlah data setelah Case Folding :  10806\n",
            "lagu bosan apa yang aku save ni huhuhuhuhuhuhuhuhuhuuuuuuuuuuuuuu\n"
          ]
        }
      ]
    },
    {
      "cell_type": "markdown",
      "metadata": {
        "id": "AARfyHHOkGt7"
      },
      "source": [
        "### Tokenizing"
      ]
    },
    {
      "cell_type": "code",
      "metadata": {
        "colab": {
          "base_uri": "https://localhost:8080/"
        },
        "id": "KGT2amBYkGt7",
        "outputId": "7827024c-12f7-4f47-8dde-2314e28620b7"
      },
      "source": [
        "datatoken = []\n",
        "\n",
        "\n",
        "for i in range(len(dataclean_labeled)):\n",
        "  tmp = nltk.tokenize.word_tokenize(dataclean_labeled[i])\n",
        "  datatoken.append(tmp)\n",
        "\n",
        "\n",
        "print(\"Banyaknya data setelah tokenizing = \",len(datatoken))"
      ],
      "execution_count": null,
      "outputs": [
        {
          "output_type": "stream",
          "name": "stdout",
          "text": [
            "Banyaknya data setelah tokenizing =  10806\n"
          ]
        }
      ]
    },
    {
      "cell_type": "markdown",
      "metadata": {
        "id": "i-HRp5HTkGt8"
      },
      "source": [
        "### Filtering (Stopword Removal)"
      ]
    },
    {
      "cell_type": "code",
      "metadata": {
        "colab": {
          "base_uri": "https://localhost:8080/"
        },
        "id": "Gjd4qdm1kGt9",
        "outputId": "96471839-330a-43cc-a8fb-df09858d8697"
      },
      "source": [
        "from Sastrawi.StopWordRemover.StopWordRemoverFactory import StopWordRemoverFactory\n",
        "factory = StopWordRemoverFactory()\n",
        "stopwords = factory.get_stop_words()\n",
        "print(stopwords)"
      ],
      "execution_count": null,
      "outputs": [
        {
          "output_type": "stream",
          "name": "stdout",
          "text": [
            "['yang', 'untuk', 'pada', 'ke', 'para', 'namun', 'menurut', 'antara', 'dia', 'dua', 'ia', 'seperti', 'jika', 'jika', 'sehingga', 'kembali', 'dan', 'tidak', 'ini', 'karena', 'kepada', 'oleh', 'saat', 'harus', 'sementara', 'setelah', 'belum', 'kami', 'sekitar', 'bagi', 'serta', 'di', 'dari', 'telah', 'sebagai', 'masih', 'hal', 'ketika', 'adalah', 'itu', 'dalam', 'bisa', 'bahwa', 'atau', 'hanya', 'kita', 'dengan', 'akan', 'juga', 'ada', 'mereka', 'sudah', 'saya', 'terhadap', 'secara', 'agar', 'lain', 'anda', 'begitu', 'mengapa', 'kenapa', 'yaitu', 'yakni', 'daripada', 'itulah', 'lagi', 'maka', 'tentang', 'demi', 'dimana', 'kemana', 'pula', 'sambil', 'sebelum', 'sesudah', 'supaya', 'guna', 'kah', 'pun', 'sampai', 'sedangkan', 'selagi', 'sementara', 'tetapi', 'apakah', 'kecuali', 'sebab', 'selain', 'seolah', 'seraya', 'seterusnya', 'tanpa', 'agak', 'boleh', 'dapat', 'dsb', 'dst', 'dll', 'dahulu', 'dulunya', 'anu', 'demikian', 'tapi', 'ingin', 'juga', 'nggak', 'mari', 'nanti', 'melainkan', 'oh', 'ok', 'seharusnya', 'sebetulnya', 'setiap', 'setidaknya', 'sesuatu', 'pasti', 'saja', 'toh', 'ya', 'walau', 'tolong', 'tentu', 'amat', 'apalagi', 'bagaimanapun']\n"
          ]
        }
      ]
    },
    {
      "cell_type": "code",
      "metadata": {
        "colab": {
          "base_uri": "https://localhost:8080/"
        },
        "id": "iD6Wj_sYkGt-",
        "outputId": "43fde0bf-0b9e-497c-dda8-dea8ec103472"
      },
      "source": [
        "from nltk.tokenize import sent_tokenize, word_tokenize\n",
        "from nltk.corpus import stopwords\n",
        "\n",
        "\n",
        "\n",
        "listStopword =  set(stopwords.words('indonesian'))\n",
        "tmp = []\n",
        "datafilter = []\n",
        "\n",
        "\n",
        "for i in datatoken:\n",
        "  for j in i:\n",
        "    if j not in listStopword:\n",
        "      tmp.append(j)\n",
        "  datafilter.append(tmp)\n",
        "  tmp = []\n",
        "  \n",
        "\n",
        "\n",
        "print(\"Banyaknya data setelah filtering = \",len(datafilter))"
      ],
      "execution_count": null,
      "outputs": [
        {
          "output_type": "stream",
          "name": "stdout",
          "text": [
            "Banyaknya data setelah filtering =  10806\n"
          ]
        }
      ]
    },
    {
      "cell_type": "markdown",
      "metadata": {
        "id": "LQiyPNsJkGt-"
      },
      "source": [
        "### Stemming"
      ]
    },
    {
      "cell_type": "code",
      "metadata": {
        "colab": {
          "base_uri": "https://localhost:8080/"
        },
        "id": "nvtC8GtekGuA",
        "outputId": "f6274e4c-b053-4504-f97d-0398b250d100"
      },
      "source": [
        "from Sastrawi.Stemmer.StemmerFactory import StemmerFactory\n",
        "factory = StemmerFactory()\n",
        "stemmer = factory.create_stemmer()\n",
        "z=0\n",
        "\n",
        "# coba = [['ini','data','percobaan'],['bagaimana','hasilnya'],['tidak','tahu','sepertinya','benar'],['semoga','ini','sudah','benar'],['aku','harapkan','juga','begitu']]\n",
        "datastem = []\n",
        "tmp = []\n",
        "\n",
        "\n",
        "# for i in datafilter:\n",
        "for i in datafilter:\n",
        "  for j in i:\n",
        "    tmp.append(stemmer.stem(j))\n",
        "  datastem.append(tmp);\n",
        "  tmp = []\n",
        "\n",
        "\n",
        "print(\"Banyaknya data setelah filtering = \",len(datastem))"
      ],
      "execution_count": null,
      "outputs": [
        {
          "output_type": "stream",
          "name": "stdout",
          "text": [
            "Banyaknya data setelah filtering =  10806\n"
          ]
        }
      ]
    },
    {
      "cell_type": "markdown",
      "metadata": {
        "id": "tr7hiBcHkGuB"
      },
      "source": [
        "### Hasil Akhir Preprocessing"
      ]
    },
    {
      "cell_type": "code",
      "metadata": {
        "colab": {
          "base_uri": "https://localhost:8080/"
        },
        "id": "hNXEwjT9kGuB",
        "outputId": "8b51875f-6cce-4e86-dd25-62956e43a31c"
      },
      "source": [
        "def convert_list_to_string(nama_list, seperator=' '):\n",
        "    \"\"\" Convert list to string, by joining all item in list with given separator.\n",
        "        Returns the concatenated string \"\"\"\n",
        "    return seperator.join(nama_list)\n",
        "\n",
        "\n",
        "finaldata_labeled = []\n",
        "\n",
        "\n",
        "for i in datastem:\n",
        "  finaldata_labeled.append(convert_list_to_string(i))\n",
        "\n",
        "print(\"Banyaknya data setelah filtering = \",len(finaldata_labeled))"
      ],
      "execution_count": null,
      "outputs": [
        {
          "output_type": "stream",
          "name": "stdout",
          "text": [
            "Banyaknya data setelah filtering =  10806\n"
          ]
        }
      ]
    },
    {
      "cell_type": "code",
      "metadata": {
        "colab": {
          "base_uri": "https://localhost:8080/"
        },
        "id": "JDAxJBFWkGuD",
        "outputId": "6bada9e9-9f29-4755-a7ec-05a1a9b04918"
      },
      "source": [
        "print(finaldata_labeled[0])\n",
        "print(len(finaldata_labeled))"
      ],
      "execution_count": null,
      "outputs": [
        {
          "output_type": "stream",
          "name": "stdout",
          "text": [
            "lagu bosan save ni huhuhuhuhuhuhuhuhuhuuuuuuuuuuuuuu\n",
            "10806\n"
          ]
        }
      ]
    },
    {
      "cell_type": "markdown",
      "metadata": {
        "id": "2UabJ777kGuD"
      },
      "source": [
        "### Export Data Clean - Labeled"
      ]
    },
    {
      "cell_type": "code",
      "metadata": {
        "id": "ANDg-N-bkGuE"
      },
      "source": [
        "df_final_labeled = DataFrame(columns=['Tweet', 'Sentiment'])\n",
        "df_final_labeled['Tweet'] = finaldata_labeled\n",
        "df_final_labeled['Sentiment'] = sentiment_labeled"
      ],
      "execution_count": null,
      "outputs": []
    },
    {
      "cell_type": "code",
      "metadata": {
        "colab": {
          "base_uri": "https://localhost:8080/",
          "height": 200
        },
        "id": "BcPqKDtVkGuF",
        "outputId": "f37ce1e8-9ee6-4f31-9ac6-099346ab320c"
      },
      "source": [
        "df_final_labeled.head()"
      ],
      "execution_count": null,
      "outputs": [
        {
          "output_type": "execute_result",
          "data": {
            "text/html": [
              "<div>\n",
              "<style scoped>\n",
              "    .dataframe tbody tr th:only-of-type {\n",
              "        vertical-align: middle;\n",
              "    }\n",
              "\n",
              "    .dataframe tbody tr th {\n",
              "        vertical-align: top;\n",
              "    }\n",
              "\n",
              "    .dataframe thead th {\n",
              "        text-align: right;\n",
              "    }\n",
              "</style>\n",
              "<table border=\"1\" class=\"dataframe\">\n",
              "  <thead>\n",
              "    <tr style=\"text-align: right;\">\n",
              "      <th></th>\n",
              "      <th>Tweet</th>\n",
              "      <th>Sentiment</th>\n",
              "    </tr>\n",
              "  </thead>\n",
              "  <tbody>\n",
              "    <tr>\n",
              "      <th>0</th>\n",
              "      <td>lagu bosan save ni huhuhuhuhuhuhuhuhuhuuuuuuuuuuuuuu</td>\n",
              "      <td>-1</td>\n",
              "    </tr>\n",
              "    <tr>\n",
              "      <th>1</th>\n",
              "      <td>lanjut diam kau erti sama libat hati</td>\n",
              "      <td>-1</td>\n",
              "    </tr>\n",
              "    <tr>\n",
              "      <th>2</th>\n",
              "      <td>doa rezeki putus inna haa zaa larizquna maa lahu min na fadesungguhnya beri p</td>\n",
              "      <td>1</td>\n",
              "    </tr>\n",
              "    <tr>\n",
              "      <th>3</th>\n",
              "      <td>makasih loh ntar hasil sisa</td>\n",
              "      <td>1</td>\n",
              "    </tr>\n",
              "    <tr>\n",
              "      <th>4</th>\n",
              "      <td>faham jenis orang malaysia ret nak sangkut hose tu geli bodoh nak pegang</td>\n",
              "      <td>-1</td>\n",
              "    </tr>\n",
              "  </tbody>\n",
              "</table>\n",
              "</div>"
            ],
            "text/plain": [
              "                                                                           Tweet  Sentiment\n",
              "0                           lagu bosan save ni huhuhuhuhuhuhuhuhuhuuuuuuuuuuuuuu         -1\n",
              "1                                           lanjut diam kau erti sama libat hati         -1\n",
              "2  doa rezeki putus inna haa zaa larizquna maa lahu min na fadesungguhnya beri p          1\n",
              "3                                                    makasih loh ntar hasil sisa          1\n",
              "4       faham jenis orang malaysia ret nak sangkut hose tu geli bodoh nak pegang         -1"
            ]
          },
          "metadata": {},
          "execution_count": 63
        }
      ]
    },
    {
      "cell_type": "code",
      "metadata": {
        "colab": {
          "base_uri": "https://localhost:8080/"
        },
        "id": "kd5fAwMhkGuF",
        "outputId": "ab24bfac-4032-4d3b-ebe2-d1e3fb4b97d3"
      },
      "source": [
        "df_final_labeled.shape"
      ],
      "execution_count": null,
      "outputs": [
        {
          "output_type": "execute_result",
          "data": {
            "text/plain": [
              "(10806, 2)"
            ]
          },
          "metadata": {},
          "execution_count": 64
        }
      ]
    },
    {
      "cell_type": "code",
      "metadata": {
        "colab": {
          "base_uri": "https://localhost:8080/"
        },
        "id": "DrfrAT5OkGuG",
        "outputId": "abc5fdea-d3b1-407f-e698-cfafcf855297"
      },
      "source": [
        "%cd /content/drive/MyDrive/Kerja/Data Analyst - PT Codemi/"
      ],
      "execution_count": null,
      "outputs": [
        {
          "output_type": "stream",
          "name": "stdout",
          "text": [
            "/content/drive/MyDrive/Kerja/Data Analyst - PT Codemi\n"
          ]
        }
      ]
    },
    {
      "cell_type": "code",
      "metadata": {
        "id": "c8CeAQvHkGuH"
      },
      "source": [
        "df_final_labeled.to_csv(r'Indonesian Sentiment Tweet Clean Dataset Labeled.csv',index=False)"
      ],
      "execution_count": null,
      "outputs": []
    },
    {
      "cell_type": "markdown",
      "metadata": {
        "id": "pMSJy2wRhWkq"
      },
      "source": [
        "## Word Cloud"
      ]
    },
    {
      "cell_type": "code",
      "metadata": {
        "id": "he-74ebbdjwm"
      },
      "source": [
        "import matplotlib.pyplot as plt\n",
        "from wordcloud import WordCloud"
      ],
      "execution_count": null,
      "outputs": []
    },
    {
      "cell_type": "code",
      "metadata": {
        "id": "SCNHzgvoUDYR"
      },
      "source": [
        "wordcloud2 = WordCloud(background_color=\"white\", width=9000, height=6000, max_words=3000).generate(' '.join(finaldata_unlabeled))"
      ],
      "execution_count": null,
      "outputs": []
    },
    {
      "cell_type": "code",
      "metadata": {
        "id": "IvYQZXdCULMM",
        "colab": {
          "base_uri": "https://localhost:8080/",
          "height": 247
        },
        "outputId": "4d6e3499-2078-4592-b75c-a8a34fbb8b21"
      },
      "source": [
        "plt.imshow(wordcloud2)\n",
        "plt.axis(\"off\")\n",
        "plt.savefig(\"wordcloud_45k.svg\")\n",
        "plt.savefig(\"wordcloud_45k.png\")\n",
        "plt.show()"
      ],
      "execution_count": null,
      "outputs": [
        {
          "output_type": "display_data",
          "data": {
            "image/png": "[encoded data removed]",
            "text/plain": [
              "<Figure size 432x288 with 1 Axes>"
            ]
          },
          "metadata": {
            "needs_background": "light"
          }
        }
      ]
    },
    {
      "cell_type": "code",
      "metadata": {
        "id": "hZNMcrcCbyCY"
      },
      "source": [
        ""
      ],
      "execution_count": null,
      "outputs": []
    }
  ]
}